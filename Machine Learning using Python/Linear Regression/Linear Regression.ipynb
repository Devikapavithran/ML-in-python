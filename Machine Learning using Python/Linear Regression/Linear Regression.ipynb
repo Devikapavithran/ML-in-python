{
 "cells": [
  {
   "cell_type": "code",
   "execution_count": 1,
   "id": "3214783e-35e1-45e4-ae46-bb867ab92483",
   "metadata": {},
   "outputs": [
    {
     "data": {
      "text/html": [
       "<div>\n",
       "<style scoped>\n",
       "    .dataframe tbody tr th:only-of-type {\n",
       "        vertical-align: middle;\n",
       "    }\n",
       "\n",
       "    .dataframe tbody tr th {\n",
       "        vertical-align: top;\n",
       "    }\n",
       "\n",
       "    .dataframe thead th {\n",
       "        text-align: right;\n",
       "    }\n",
       "</style>\n",
       "<table border=\"1\" class=\"dataframe\">\n",
       "  <thead>\n",
       "    <tr style=\"text-align: right;\">\n",
       "      <th></th>\n",
       "      <th>Purchase hybrid vehicle</th>\n",
       "      <th>Age</th>\n",
       "      <th>Education</th>\n",
       "      <th>Income</th>\n",
       "      <th>Vehicle Ownership</th>\n",
       "    </tr>\n",
       "  </thead>\n",
       "  <tbody>\n",
       "    <tr>\n",
       "      <th>0</th>\n",
       "      <td>0</td>\n",
       "      <td>4</td>\n",
       "      <td>2</td>\n",
       "      <td>4</td>\n",
       "      <td>1</td>\n",
       "    </tr>\n",
       "    <tr>\n",
       "      <th>1</th>\n",
       "      <td>0</td>\n",
       "      <td>1</td>\n",
       "      <td>2</td>\n",
       "      <td>9</td>\n",
       "      <td>1</td>\n",
       "    </tr>\n",
       "    <tr>\n",
       "      <th>2</th>\n",
       "      <td>0</td>\n",
       "      <td>1</td>\n",
       "      <td>3</td>\n",
       "      <td>7</td>\n",
       "      <td>2</td>\n",
       "    </tr>\n",
       "    <tr>\n",
       "      <th>3</th>\n",
       "      <td>1</td>\n",
       "      <td>3</td>\n",
       "      <td>4</td>\n",
       "      <td>12</td>\n",
       "      <td>4</td>\n",
       "    </tr>\n",
       "    <tr>\n",
       "      <th>4</th>\n",
       "      <td>0</td>\n",
       "      <td>2</td>\n",
       "      <td>3</td>\n",
       "      <td>7</td>\n",
       "      <td>2</td>\n",
       "    </tr>\n",
       "  </tbody>\n",
       "</table>\n",
       "</div>"
      ],
      "text/plain": [
       "   Purchase hybrid vehicle  Age  Education  Income  Vehicle Ownership\n",
       "0                        0    4          2       4                  1\n",
       "1                        0    1          2       9                  1\n",
       "2                        0    1          3       7                  2\n",
       "3                        1    3          4      12                  4\n",
       "4                        0    2          3       7                  2"
      ]
     },
     "execution_count": 1,
     "metadata": {},
     "output_type": "execute_result"
    }
   ],
   "source": [
    "#importing libraries \n",
    "\n",
    "import pandas as pd\n",
    "import numpy as np\n",
    "from sklearn.linear_model import LinearRegression\n",
    "import joblib  #saving the model\n",
    "\n",
    "#Load the dataset\n",
    "\n",
    "data=pd.read_csv(\"Linear-Regression-_Training-Data_-.csv\")\n",
    "\n",
    "data.head()"
   ]
  },
  {
   "cell_type": "code",
   "execution_count": 3,
   "id": "e133d543-1861-4b39-a9fe-85c0ccfcbb01",
   "metadata": {},
   "outputs": [
    {
     "name": "stdout",
     "output_type": "stream",
     "text": [
      "The model has been trained and saved successfully\n"
     ]
    }
   ],
   "source": [
    "#Define dependent and independent variable\n",
    "\n",
    "X=data[['Age', 'Education', 'Income', 'Vehicle Ownership']] #Independent\n",
    "Y=data['Purchase hybrid vehicle'] #Dependent\n",
    "\n",
    "model = LinearRegression()\n",
    "model.fit(X,Y)\n",
    "\n",
    "#Save the model to a file for later use\n",
    "joblib.dump(model, 'Section_76.pkl')\n",
    "\n",
    "print(\"The model has been trained and saved successfully\")"
   ]
  },
  {
   "cell_type": "code",
   "execution_count": 17,
   "id": "dbfe4016-800d-4d3b-93d4-ed8dd362de5d",
   "metadata": {},
   "outputs": [
    {
     "name": "stdout",
     "output_type": "stream",
     "text": [
      "    Age  Education  Income  Vehicle Ownership  Prediction  Prediction %\n",
      "0     3          2       8                  2    0.478029         47.80\n",
      "1     4          4      12                  3    1.085303        108.53\n",
      "2     2          3      10                  1    0.487437         48.74\n",
      "3     5          5      15                  4    1.567384        156.74\n",
      "4     1          2       5                  1   -0.033514         -3.35\n",
      "5     3          3       9                  2    0.603222         60.32\n",
      "6     2          1       6                  1    0.076315          7.63\n",
      "7     4          3      11                  3    0.960110         96.01\n",
      "8     3          2       8                  2    0.478029         47.80\n",
      "9     5          4      13                  4    1.361823        136.18\n",
      "10    2          3       7                  2    0.368200         36.82\n",
      "11    1          1       4                  1   -0.158708        -15.87\n",
      "12    3          2       9                  2    0.558396         55.84\n",
      "13    4          4      12                  3    1.085303        108.53\n",
      "14    5          3      11                  4    1.156263        115.63\n",
      "15    2          2       6                  2    0.243006         24.30\n",
      "16    1          3       7                  1    0.172047         17.20\n",
      "17    4          2      10                  3    0.834916         83.49\n",
      "18    3          4      12                  2    0.889150         88.92\n",
      "19    5          5      14                  4    1.487017        148.70\n",
      "Congrats Section 76... You did a great job\n"
     ]
    }
   ],
   "source": [
    "import pandas as pd\n",
    "import joblib \n",
    "\n",
    "model=joblib.load('Section_76.pkl')\n",
    "\n",
    "df=pd.read_csv(\"Linear-Regression-Python-_Test-data_.csv\")\n",
    "\n",
    "#Make the predictions from the model\n",
    "\n",
    "df[\"Prediction\"] = model.predict(df)\n",
    "\n",
    "df[\"Prediction %\"] = (df[\"Prediction\"]*100).round(2)\n",
    "\n",
    "print(df)\n",
    "\n",
    "df.to_csv(\"Updated-data-with-Predictions.csv\", index=False)\n",
    "\n",
    "print(\"Congrats Section 76... You did a great job\")"
   ]
  },
  {
   "cell_type": "code",
   "execution_count": null,
   "id": "74ce3513-62d4-48e1-ba31-eb9b901d96ea",
   "metadata": {},
   "outputs": [],
   "source": []
  }
 ],
 "metadata": {
  "kernelspec": {
   "display_name": "Python 3 (ipykernel)",
   "language": "python",
   "name": "python3"
  },
  "language_info": {
   "codemirror_mode": {
    "name": "ipython",
    "version": 3
   },
   "file_extension": ".py",
   "mimetype": "text/x-python",
   "name": "python",
   "nbconvert_exporter": "python",
   "pygments_lexer": "ipython3",
   "version": "3.12.4"
  }
 },
 "nbformat": 4,
 "nbformat_minor": 5
}
